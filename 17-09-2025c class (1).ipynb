{
 "cells": [
  {
   "cell_type": "code",
   "execution_count": 1,
   "id": "99fe4a29-9056-400d-a048-379cad46c3d1",
   "metadata": {},
   "outputs": [
    {
     "name": "stdout",
     "output_type": "stream",
     "text": [
      "[1, 4, 9, 16]\n"
     ]
    }
   ],
   "source": [
    "numbers=[1,2,3,4]\n",
    "result=map(lambda x:x*x,numbers)\n",
    "print(list(result))"
   ]
  },
  {
   "cell_type": "code",
   "execution_count": 2,
   "id": "776a7f67-9ebc-4ae6-b737-6fdaa9276748",
   "metadata": {},
   "outputs": [
    {
     "name": "stdout",
     "output_type": "stream",
     "text": [
      "['CAT', 'DOG', 'RAT']\n"
     ]
    }
   ],
   "source": [
    "words=[\"cat\",\"dog\",\"rat\"]\n",
    "upper=list(map(str.upper,words))\n",
    "print(upper)"
   ]
  },
  {
   "cell_type": "code",
   "execution_count": 4,
   "id": "4d8db711-4f30-417a-a002-60f109461a8f",
   "metadata": {},
   "outputs": [
    {
     "name": "stdout",
     "output_type": "stream",
     "text": [
      "[5, 7, 9]\n"
     ]
    }
   ],
   "source": [
    "a=[1,2,3]\n",
    "b=[4,5,6]\n",
    "result=list(map(lambda x,y: x+y,a,b))\n",
    "print(result)"
   ]
  },
  {
   "cell_type": "markdown",
   "id": "bb68cafb-b776-4830-b8f0-1d42717be174",
   "metadata": {},
   "source": [
    "# my personal library manager:a console app to organize and track your books using python"
   ]
  },
  {
   "cell_type": "code",
   "execution_count": null,
   "id": "64e574a1-315d-4416-85b0-a2761e0f535a",
   "metadata": {},
   "outputs": [
    {
     "name": "stdout",
     "output_type": "stream",
     "text": [
      "\n",
      "--- Personal Library Menu ---\n",
      "1. Add Book\n",
      "2. List All Books\n",
      "3. List Books Sorted by Year\n",
      "4. Search by Author\n",
      "5. Delete Book by Title\n",
      "6. Show Reading Summary\n",
      "7. Show UPPERCASE Book Titles (map)\n",
      "8. Save Library\n",
      "9. Load Library\n",
      "10. Exit\n"
     ]
    }
   ],
   "source": [
    "\n",
    "import os\n",
    "\n",
    "\n",
    "library = []\n",
    "\n",
    "\n",
    "def add_book(title, author, genre, year, status=\"unread\"):\n",
    "    book = {\n",
    "        \"title\": title.strip(),\n",
    "        \"author\": author.strip(),\n",
    "        \"genre\": genre.strip(),\n",
    "        \"year\": int(year),\n",
    "        \"status\": status.lower()\n",
    "    }\n",
    "    library.append(book)\n",
    "    print(f\"Book '{title}' added.\")\n",
    "\n",
    "\n",
    "def list_books(sorted_by_year=False):\n",
    "    if not library:\n",
    "        print(\"Library is empty.\")\n",
    "        return\n",
    "    books = sorted(library, key=lambda x: x['year']) if sorted_by_year else library\n",
    "    for idx, book in enumerate(books, start=1):\n",
    "        print(f\"{idx}. {book['title']} by {book['author']} [{book['genre']}, {book['year']}] - {book['status'].capitalize()}\")\n",
    "\n",
    "def search_by_author(author_name):\n",
    "    return [book for book in library if author_name.lower() in book['author'].lower()]\n",
    "\n",
    "def delete_book(title):\n",
    "    global library\n",
    "    library = list(filter(lambda book: book['title'].lower() != title.lower(), library))\n",
    "    print(f\"Book titled '{title}' has been removed if it existed.\")\n",
    "\n",
    "def show_reading_summary():\n",
    "    if not library:\n",
    "        print(\"No books in library.\")\n",
    "        return\n",
    "    read = len(list(filter(lambda x: x['status'] == 'read', library)))\n",
    "    unread = len(library) - read\n",
    "    print(f\"Read: {read} books ({(read/len(library))*100:.2f}%)\")\n",
    "    print(f\"Unread: {unread} books ({(unread/len(library))*100:.2f}%)\")\n",
    "\n",
    "\n",
    "def uppercase_titles():\n",
    "    titles = list(map(lambda b: b['title'].upper(), library))\n",
    "    print(\"Book Titles (UPPERCASE):\")\n",
    "    for title in titles:\n",
    "        print(\"-\", title)\n",
    "\n",
    "def save_to_file(filename):\n",
    "    try:\n",
    "        with open(filename, 'w') as f:\n",
    "            \n",
    "            for book in library:\n",
    "                line = f\"{book['title']},{book['author']},{book['genre']},{book['year']},{book['status']}\"\n",
    "                f.write(line)\n",
    "        print(f\"Saved {len(library)} books to {filename}\")  # After saving all the books, this line prints a confirmation message.It says how many books were saved and the name of the file.\n",
    "    except Exception as e:\n",
    "        print(\"Error saving file:\", e)\n",
    "\n",
    "\n",
    "def load_from_file(filename):\n",
    "    if not os.path.exists(filename):\n",
    "        print(\"File not found. Starting with an empty library.\")\n",
    "        return\n",
    "    try:\n",
    "        with open(filename, 'r') as f:\n",
    "            for line in f:\n",
    "                title, author, genre, year, status = line.strip().split(',')\n",
    "                add_book(title, author, genre, int(year), status)\n",
    "    except Exception as e:\n",
    "        print(\"Error reading file:\", e)\n",
    "\n",
    "\n",
    "\n",
    "# Building the Menu Function for Your Library App\n",
    "def menu():\n",
    "    while True:\n",
    "        print(\"\\n--- Personal Library Menu ---\")\n",
    "        print(\"1. Add Book\")\n",
    "        print(\"2. List All Books\")\n",
    "        print(\"3. List Books Sorted by Year\")\n",
    "        print(\"4. Search by Author\")\n",
    "        print(\"5. Delete Book by Title\")\n",
    "        print(\"6. Show Reading Summary\")\n",
    "        print(\"7. Show UPPERCASE Book Titles (map)\")\n",
    "        print(\"8. Save Library\")\n",
    "        print(\"9. Load Library\")\n",
    "        print(\"10. Exit\")\n",
    "        choice = input(\"Choose an option: \")\n",
    "\n",
    "        if choice == \"1\":\n",
    "            title = input(\"Title: \")\n",
    "            author = input(\"Author: \")\n",
    "            genre = input(\"Genre: \")\n",
    "            year = input(\"Year: \")\n",
    "            status = input(\"Status (read/unread): \")\n",
    "            add_book(title, author, genre, year, status)\n",
    "        elif choice == \"2\":\n",
    "            list_books()\n",
    "        elif choice == \"3\":\n",
    "            list_books(sorted_by_year=True)\n",
    "        elif choice == \"4\":\n",
    "            author = input(\"Enter author name: \")\n",
    "            results = search_by_author(author)\n",
    "            print(f\"\\n Found {len(results)} books by {author}:\")\n",
    "            for book in results:\n",
    "                print(f\"- {book['title']} ({book['year']})\")\n",
    "        elif choice == \"5\":\n",
    "            title = input(\"Enter title to delete: \")\n",
    "            delete_book(title)\n",
    "        elif choice == \"6\":\n",
    "            show_reading_summary()\n",
    "        elif choice == \"7\":\n",
    "            uppercase_titles()\n",
    "        elif choice == \"8\":\n",
    "            save_to_file(\"books_data.txt\")\n",
    "        elif choice == \"9\":\n",
    "            load_from_file(\"books_data.txt\")\n",
    "        elif choice == \"10\":\n",
    "            print(\"Goodbye!\")\n",
    "            break\n",
    "        else:\n",
    "            print(\"Invalid option. Try again.\")\n",
    "\n",
    "\n",
    "if __name__ == \"__main__\": # This line checks how the Python file is being run.\n",
    "    menu()\n",
    "\n",
    "\n",
    "\n",
    "\n",
    "\n",
    "\n",
    "\n",
    "\n",
    "\n"
   ]
  },
  {
   "cell_type": "code",
   "execution_count": null,
   "id": "4d520418-1ff2-46fa-a27c-c42147961c7a",
   "metadata": {},
   "outputs": [],
   "source": []
  }
 ],
 "metadata": {
  "kernelspec": {
   "display_name": "Python 3 (ipykernel)",
   "language": "python",
   "name": "python3"
  },
  "language_info": {
   "codemirror_mode": {
    "name": "ipython",
    "version": 3
   },
   "file_extension": ".py",
   "mimetype": "text/x-python",
   "name": "python",
   "nbconvert_exporter": "python",
   "pygments_lexer": "ipython3",
   "version": "3.13.5"
  }
 },
 "nbformat": 4,
 "nbformat_minor": 5
}
